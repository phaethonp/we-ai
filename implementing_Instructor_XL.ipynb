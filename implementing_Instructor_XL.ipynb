{
  "cells": [
    {
      "cell_type": "markdown",
      "metadata": {
        "id": "view-in-github",
        "colab_type": "text"
      },
      "source": [
        "<a href=\"https://colab.research.google.com/github/phaethonp/we-ai/blob/main/implementing_Instructor_XL.ipynb\" target=\"_parent\"><img src=\"https://colab.research.google.com/assets/colab-badge.svg\" alt=\"Open In Colab\"/></a>"
      ]
    },
    {
      "cell_type": "markdown",
      "metadata": {
        "id": "B3mOH7Yd1lSo"
      },
      "source": [
        "# implementing the huggingface Instructor model for creating embeddings, to increase speed, reduce cost, and use an open source model"
      ]
    },
    {
      "cell_type": "code",
      "execution_count": null,
      "metadata": {
        "colab": {
          "base_uri": "https://localhost:8080/"
        },
        "id": "6hbBYEc7cygK",
        "outputId": "0db6ea46-ae17-4390-a5f2-dd6d9a350c46"
      },
      "outputs": [
        {
          "output_type": "stream",
          "name": "stdout",
          "text": [
            "load INSTRUCTOR_Transformer\n",
            "max_seq_length  512\n"
          ]
        }
      ],
      "source": [
        "# use instructor model\n",
        "from llama_index import ServiceContext, LLMPredictor\n",
        "from llama_index import LangchainEmbedding\n",
        "from langchain.chat_models import ChatOpenAI\n",
        "from langchain.embeddings.huggingface import HuggingFaceInstructEmbeddings\n",
        "\n",
        "\n",
        "instructor_model = LangchainEmbedding(HuggingFaceInstructEmbeddings(model_name=\"hkunlp/instructor-xl\"))\n",
        "gpt_predictor = LLMPredictor(llm=ChatOpenAI(temperature=0))\n",
        "\n",
        "service_context = ServiceContext.from_defaults(embed_model=instructor_model, llm_predictor=gpt_predictor)"
      ]
    }
  ],
  "metadata": {
    "colab": {
      "collapsed_sections": [
        "ckWRI8e5n2TB"
      ],
      "provenance": [],
      "gpuType": "T4",
      "include_colab_link": true
    },
    "kernelspec": {
      "display_name": "Python 3",
      "name": "python3"
    },
    "language_info": {
      "name": "python"
    }
  },
  "nbformat": 4,
  "nbformat_minor": 0
}