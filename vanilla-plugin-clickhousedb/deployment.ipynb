Register a plugin at chatgpt, test docker image and clickhouse db on AWS<br>

http://18.168.150.197/docs#/default/query_main_query_post
