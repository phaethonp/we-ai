{
  "nbformat": 4,
  "nbformat_minor": 0,
  "metadata": {
    "colab": {
      "provenance": [],
      "include_colab_link": true
    },
    "kernelspec": {
      "name": "python3",
      "display_name": "Python 3"
    },
    "language_info": {
      "name": "python"
    }
  },
  "cells": [
    {
      "cell_type": "markdown",
      "metadata": {
        "id": "view-in-github",
        "colab_type": "text"
      },
      "source": [
        "<a href=\"https://colab.research.google.com/github/phaethonp/we-ai/blob/main/retrieve_embeddings_from_database.ipynb\" target=\"_parent\"><img src=\"https://colab.research.google.com/assets/colab-badge.svg\" alt=\"Open In Colab\"/></a>"
      ]
    },
    {
      "cell_type": "code",
      "source": [
        "vector_store = ChromaVectorStore(chroma_collection=collection)\n",
        "storage_context = StorageContext.from_defaults(vector_store=vector_store, persist_dir='./storage/')\n",
        "\n",
        "index = load_index_from_storage(storage_context=storage_context, service_context=service_context)"
      ],
      "metadata": {
        "id": "TDnXREaslmdk"
      },
      "execution_count": null,
      "outputs": []
    },
    {
      "cell_type": "markdown",
      "source": [
        "# Retrieve docs from collection"
      ],
      "metadata": {
        "id": "MGCDRIWBt_r9"
      }
    },
    {
      "cell_type": "code",
      "source": [
        "from llama_index.readers.chroma import ChromaReader\n",
        "\n",
        "def get_collection_reader(collection_name):\n",
        "    reader = ChromaReader(\n",
        "        host=\"35.178.183.107\",\n",
        "        port=8000,\n",
        "        collection_name=collection_name\n",
        "    )\n",
        "    return reader\n",
        "reader = get_collection_reader(\"wiki_test\")"
      ],
      "metadata": {
        "colab": {
          "base_uri": "https://localhost:8080/"
        },
        "id": "1teGDlDHucLv",
        "outputId": "73f6879f-d59f-4545-c08a-e54135546c91"
      },
      "execution_count": null,
      "outputs": [
        {
          "output_type": "stream",
          "name": "stderr",
          "text": [
            "WARNING:chromadb.api.models.Collection:No embedding_function provided, using default embedding function: DefaultEmbeddingFunction https://huggingface.co/sentence-transformers/all-MiniLM-L6-v2\n"
          ]
        }
      ]
    }
  ]
}