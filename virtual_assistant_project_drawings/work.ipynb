# Project Assistant for Semantic search over BIM/IFC files 
Integrated BIM Data Processing and AI-driven Natural Language Response System. We will describe 2 methods which we intend to use<br>
### External Computation for BIM-NLP Integration

- **BIM to JSON**: A BIM drawing is converted into a JSON file using IfcOpenShell.<br>
- **Storage**: The JSON file is stored in a database.<br>
- **Computation**: Upon a user query, calculations are performed on the data.<br>
- **AI Interaction**: The results are submitted to an AI model.<br>
- **Output**: The AI model returns results in natural language to the user.<be>

.

### Zero-Shot Learning.<BR>

2. Zero-Shot Learning

   
<br>
https://arxiv.org/pdf/2304.09333.pdf <br>

we can find more details on Zero-Shot IE here<br>
### Zero-Shot Information Extraction via Chatting with ChatGPT
https://arxiv.org/abs/2302.10205
