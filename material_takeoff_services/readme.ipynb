Material TakeOff: this option allows to measure all different materials in a BIM software drawing
